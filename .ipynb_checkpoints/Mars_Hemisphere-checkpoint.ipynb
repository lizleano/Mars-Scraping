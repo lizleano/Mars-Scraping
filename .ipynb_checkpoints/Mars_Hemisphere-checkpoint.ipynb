{
 "cells": [
  {
   "cell_type": "code",
   "execution_count": 3,
   "metadata": {},
   "outputs": [
    {
     "name": "stdout",
     "output_type": "stream",
     "text": [
      "[{'title': 'Cerberus Hemisphere Unenhanced', 'image_url': 'http://astropedia.astrogeology.usgs.gov/download/Mars/Viking/cerberus_enhanced.tif'}, {'title': 'Cerberus Hemisphere Enhanced', 'image_url': 'http://astropedia.astrogeology.usgs.gov/download/Mars/Viking/schiaparelli_enhanced.tif'}, {'title': 'Cerberus Hemisphere Enhanced', 'image_url': 'http://astropedia.astrogeology.usgs.gov/download/Mars/Viking/syrtis_major_enhanced.tif'}, {'title': 'Cerberus Hemisphere Enhanced', 'image_url': 'http://astropedia.astrogeology.usgs.gov/download/Mars/Viking/valles_marineris_enhanced.tif'}]\n"
     ]
    }
   ],
   "source": [
    "from splinter import Browser\n",
    "import requests\n",
    "from bs4 import BeautifulSoup\n",
    "import time\n",
    "\n",
    "\n",
    "executable_path = {'executable_path': 'chromedriver.exe'}\n",
    "browser = Browser('chrome', **executable_path)\n",
    "url = 'https://astrogeology.usgs.gov/search/results?q=hemisphere+enhanced&k1=target&v1=Mars'\n",
    "browser.visit(url)\n",
    "\n",
    "\n",
    "html = browser.html\n",
    "soup = BeautifulSoup(html, 'html.parser')\n",
    "\n",
    "image_urls = []\n",
    "\n",
    "hempisphere_image_urls = []\n",
    "\n",
    "pictures = soup.find_all('a', class_=\"item product-item\")\n",
    "for p in pictures:    \n",
    "    image_urls.append(\"https://astrogeology.usgs.gov%s\" % p['href'])  \n",
    "    \n",
    "    \n",
    "for i in image_urls:\n",
    "    try:\n",
    "        # click to get enhanced image\n",
    "        response = requests.get(i)\n",
    "#         browser.click_link_by_partial_href(i)\n",
    "#         time.sleep(5)\n",
    "\n",
    "#         html = browser.html\n",
    "        soup = BeautifulSoup(response.text, 'lxml')\n",
    "\n",
    "        #  find title of image\n",
    "        title = soup.find('div', class_=\"description\").h3.text\n",
    "\n",
    "        # find url of image\n",
    "        downloads = soup.find_all('div', class_=\"downloads\")\n",
    "        for d in downloads:    \n",
    "            mars_images = d.find_all('li')\n",
    "            for m in mars_images:\n",
    "                if \"Original\" in m.text:\n",
    "                    image_url = m.a['href'].strip()\n",
    "\n",
    "        url_dict = {\"title\":title, \"image_url\":image_url}\n",
    "        hempisphere_image_urls.append(url_dict)\n",
    "    except Exception as e:\n",
    "        print(e)\n",
    "    \n",
    "print(hempisphere_image_urls)"
   ]
  }
 ],
 "metadata": {
  "kernelspec": {
   "display_name": "Python [conda env:PythonData]",
   "language": "python",
   "name": "conda-env-PythonData-py"
  },
  "language_info": {
   "codemirror_mode": {
    "name": "ipython",
    "version": 3
   },
   "file_extension": ".py",
   "mimetype": "text/x-python",
   "name": "python",
   "nbconvert_exporter": "python",
   "pygments_lexer": "ipython3",
   "version": "3.6.1"
  }
 },
 "nbformat": 4,
 "nbformat_minor": 2
}
