{
 "cells": [
  {
   "cell_type": "code",
   "execution_count": 1,
   "metadata": {
    "collapsed": true
   },
   "outputs": [],
   "source": [
    "# Dependencies\n",
    "import requests as requests\n",
    "import pandas as pd\n",
    "from bs4 import BeautifulSoup as bs\n",
    "from splinter import Browser\n",
    "import time\n",
    "import requests\n",
    "\n",
    "# Module Dependency\n",
    "import pymongo\n",
    "import datetime"
   ]
  },
  {
   "cell_type": "markdown",
   "metadata": {},
   "source": [
    "## Nasa Mars News"
   ]
  },
  {
   "cell_type": "code",
   "execution_count": 2,
   "metadata": {
    "collapsed": true
   },
   "outputs": [],
   "source": [
    "def get_mars_news_title():\n",
    "    # URL of page to scrape\n",
    "    url = 'https://mars.nasa.gov/news/'\n",
    "\n",
    "    # Retrieve page \n",
    "    response = requests.get(url)\n",
    "\n",
    "    # Create Beautiful Soup object; parse with 'html.parser'\n",
    "    soup = bs(response.text, 'html.parser')\n",
    "\n",
    "    latest_news = soup.body.find('div', class_='slide')\n",
    "\n",
    "    # find title and text\n",
    "    title = latest_news.find('div', class_=\"content_title\")\n",
    "    text = latest_news.find('div', class_=\"rollover_description_inner\")\n",
    "\n",
    "    # return a dictionary \n",
    "    news = {\"title\": title.text.strip(),\n",
    "            \"text\": text.text.strip()}\n",
    "\n",
    "    return news"
   ]
  },
  {
   "cell_type": "markdown",
   "metadata": {},
   "source": [
    "## JPL Mars Space Images - Featured Image"
   ]
  },
  {
   "cell_type": "code",
   "execution_count": 3,
   "metadata": {
    "collapsed": true
   },
   "outputs": [],
   "source": [
    "def get_mars_featured_image():\n",
    "    executable_path = {'executable_path': 'chromedriver.exe'}\n",
    "    browser = Browser('chrome', **executable_path)\n",
    "    base_url = 'https://www.jpl.nasa.gov'\n",
    "    url = '%s/spaceimages/?search=&category=Mars' % base_url\n",
    "    browser.visit(url)\n",
    "\n",
    "\n",
    "    html = browser.html\n",
    "    soup = bs(html, 'html.parser')\n",
    "\n",
    "    # click FULL IMAGE to get medium image\n",
    "    browser.click_link_by_partial_text('FULL IMAGE')\n",
    "\n",
    "    time.sleep(5)\n",
    "\n",
    "    html = browser.html\n",
    "    soup = bs(html, 'html.parser')\n",
    "\n",
    "    # click more info to get larger size\n",
    "    browser.click_link_by_partial_text('more info')\n",
    "    # browser.find_link_by_partial_text('more info').click()\n",
    "\n",
    "\n",
    "    html = browser.html\n",
    "    soup2 = bs(html, 'html.parser')\n",
    "    \n",
    "    images = soup2.find('figure', class_='lede')\n",
    "    mars_large = images.a['href']\n",
    "    mars_link = '%s%s' % (base_url, mars_large)\n",
    "\n",
    "    return mars_link"
   ]
  },
  {
   "cell_type": "markdown",
   "metadata": {},
   "source": [
    "## Mars Weather"
   ]
  },
  {
   "cell_type": "code",
   "execution_count": 4,
   "metadata": {
    "collapsed": true
   },
   "outputs": [],
   "source": [
    "def get_mars_weather():\n",
    "    url = 'https://twitter.com/marswxreport?lang=en'\n",
    "\n",
    "    # Retrieve page \n",
    "    response = requests.get(url)\n",
    "\n",
    "    # Create Beautiful Soup object; parse with 'html.parser'\n",
    "    soup = bs(response.text, 'html.parser')\n",
    "\n",
    "\n",
    "    content = soup.find('div', class_='content')\n",
    "    mars_weather = soup.find('div', 'js-tweet-text-container')\n",
    "    return mars_weather.text.strip()\n"
   ]
  },
  {
   "cell_type": "markdown",
   "metadata": {},
   "source": [
    "## Mars Facts"
   ]
  },
  {
   "cell_type": "code",
   "execution_count": 5,
   "metadata": {
    "collapsed": true,
    "scrolled": false
   },
   "outputs": [],
   "source": [
    "def get_mars_facts():\n",
    "    url = 'https://space-facts.com/mars/'\n",
    "\n",
    "    # Retrieve page \n",
    "    response = requests.get(url)\n",
    "\n",
    "    # Create Beautiful Soup object; parse with 'html.parser'\n",
    "    soup = bs(response.text, 'html.parser')\n",
    "\n",
    "\n",
    "    rows = soup.find_all('tr')\n",
    "\n",
    "    names = []\n",
    "    values = []\n",
    "\n",
    "    for r in rows:\n",
    "        name = r.find('td', class_='column-1')\n",
    "        value = r.find('td', class_='column-2')\n",
    "        names.append(name.text.strip())\n",
    "        values.append(value.text.strip())\n",
    "\n",
    "    facts_df = pd.DataFrame ({\"name\": names,\n",
    "                   \"value\": values})\n",
    "\n",
    "    facts_df.set_index(\"name\", inplace=True)\n",
    "\n",
    "    facts_html = facts_df.to_html(\"Mars_facts.html\")\n",
    "    url = 'https://space-facts.com/mars/'\n",
    "\n",
    "    # Retrieve page \n",
    "    response = requests.get(url)\n",
    "\n",
    "    # Create Beautiful Soup object; parse with 'html.parser'\n",
    "    soup = bs(response.text, 'html.parser')\n",
    "\n",
    "\n",
    "    rows = soup.find_all('tr')\n",
    "\n",
    "    names = []\n",
    "    values = []\n",
    "\n",
    "    for r in rows:\n",
    "        name = r.find('td', class_='column-1')\n",
    "        value = r.find('td', class_='column-2')\n",
    "        names.append(name.text.strip())\n",
    "        values.append(value.text.strip())\n",
    "\n",
    "    facts_df = pd.DataFrame ({\"name\": names,\n",
    "                   \"value\": values})\n",
    "\n",
    "    facts_df.set_index(\"name\", inplace=True)\n",
    "    facts_df.to_html(\"Mars_facts.html\")\n",
    "\n",
    "    # return link to html\n",
    "    return(\"Mars_facts.html\")   "
   ]
  },
  {
   "cell_type": "markdown",
   "metadata": {},
   "source": [
    "## Mars Hemispheres"
   ]
  },
  {
   "cell_type": "code",
   "execution_count": 6,
   "metadata": {
    "collapsed": true
   },
   "outputs": [],
   "source": [
    "def get_mars_hemisphere():\n",
    "    executable_path = {'executable_path': 'chromedriver.exe'}\n",
    "    browser = Browser('chrome', **executable_path)\n",
    "\n",
    "    # array list\n",
    "    image_urls = []\n",
    "    image_titles = []\n",
    "    hempisphere_image_urls = []\n",
    "\n",
    "    #  scrape all refernces to images in page\n",
    "    url = 'https://astrogeology.usgs.gov/search/results?q=hemisphere+enhanced&k1=target&v1=Mars'\n",
    "    browser.visit(url)\n",
    "    html = browser.html\n",
    "    soup = bs(html, 'html.parser')\t\n",
    "\n",
    "    pictures = soup.find_all('a', class_=\"item product-item\")\n",
    "    for p in pictures:    \n",
    "        image_urls.append(\"https://astrogeology.usgs.gov%s\" % p['href'])  \n",
    "        \n",
    "        #  find title of image\n",
    "        image_titles.append(p.find('div', class_=\"description\").h3.text)\n",
    "\n",
    "\n",
    "    # read each page reference and capture large image \n",
    "    for i, t in zip(image_urls, image_titles):\n",
    "        try:\n",
    "            # click to get enhanced image\n",
    "            response = requests.get(i)\n",
    "\n",
    "            soup = bs(response.text, 'lxml')            \n",
    "            \n",
    "            title = t\n",
    "\n",
    "            # find url of image\n",
    "            mars_images = soup.find('img', class_='wide-image',attrs={'src':True})\n",
    "            image_url = \"https://astrogeology.usgs.gov%s\" % mars_images['src'].strip()    \n",
    "\n",
    "            url_dict = {\"title\":title, \"image_url\":image_url}\n",
    "            hempisphere_image_urls.append(url_dict)\n",
    "        except Exception as e:\n",
    "            print(e)\t# return dictionary of mars hemisphere \n",
    "    return hempisphere_image_urls"
   ]
  },
  {
   "cell_type": "code",
   "execution_count": 7,
   "metadata": {},
   "outputs": [
    {
     "name": "stdout",
     "output_type": "stream",
     "text": [
      "Martian Ridge Brings Out Rover's Color Talents\n",
      "On a part of \"Vera Rubin Ridge\" where rover-team researchers sought to determine whether dust coatings are hiding rocks' hematite content, the Mast Camera (Mastcam) on NASA's Curiosity Mars rover took this image of a rock surface that had been brushed with the rover's Dust Removal Tool.\n",
      "https://www.jpl.nasa.gov/spaceimages/images/largesize/PIA16837_hires.jpg\n",
      "<table border=\"1\" class=\"dataframe\">\n",
      "  <thead>\n",
      "    <tr style=\"text-align: right;\">\n",
      "      <th></th>\n",
      "      <th>value</th>\n",
      "    </tr>\n",
      "    <tr>\n",
      "      <th>name</th>\n",
      "      <th></th>\n",
      "    </tr>\n",
      "  </thead>\n",
      "  <tbody>\n",
      "    <tr>\n",
      "      <th>Equatorial Diameter:</th>\n",
      "      <td>6,792 km</td>\n",
      "    </tr>\n",
      "    <tr>\n",
      "      <th>Polar Diameter:</th>\n",
      "      <td>6,752 km</td>\n",
      "    </tr>\n",
      "    <tr>\n",
      "      <th>Mass:</th>\n",
      "      <td>6.42 x 10^23 kg (10.7% Earth)</td>\n",
      "    </tr>\n",
      "    <tr>\n",
      "      <th>Moons:</th>\n",
      "      <td>2 (Phobos &amp; Deimos)</td>\n",
      "    </tr>\n",
      "    <tr>\n",
      "      <th>Orbit Distance:</th>\n",
      "      <td>227,943,824 km (1.52 AU)</td>\n",
      "    </tr>\n",
      "    <tr>\n",
      "      <th>Orbit Period:</th>\n",
      "      <td>687 days (1.9 years)</td>\n",
      "    </tr>\n",
      "    <tr>\n",
      "      <th>Surface Temperature:</th>\n",
      "      <td>-153 to 20 °C</td>\n",
      "    </tr>\n",
      "    <tr>\n",
      "      <th>First Record:</th>\n",
      "      <td>2nd millennium BC</td>\n",
      "    </tr>\n",
      "    <tr>\n",
      "      <th>Recorded By:</th>\n",
      "      <td>Egyptian astronomers</td>\n",
      "    </tr>\n",
      "  </tbody>\n",
      "</table>\n"
     ]
    },
    {
     "data": {
      "text/plain": [
       "<pymongo.results.InsertOneResult at 0x20ade596f88>"
      ]
     },
     "execution_count": 7,
     "metadata": {},
     "output_type": "execute_result"
    }
   ],
   "source": [
    "conn = \"mongodb://localhost:27017\"\n",
    "client = pymongo.MongoClient(conn)\n",
    "\n",
    "# define datbase and collection\n",
    "db = client.mars_db\n",
    "mars_info = db.mars_db\n",
    "\n",
    "# mars news\n",
    "news = get_mars_news_title()\n",
    "print(news['title'])\n",
    "print(news['text'])\n",
    "\n",
    "# featured image\n",
    "featured_image = get_mars_featured_image()\n",
    "print(featured_image)\n",
    "\n",
    "# mars weather\n",
    "mars_weather = get_mars_weather()\n",
    "\n",
    "# mars facts\n",
    "mars_facts_filename = get_mars_facts()\n",
    "htmlFile = open(mars_facts_filename, 'r')\n",
    "marsHtml = htmlFile.read() \n",
    "print(marsHtml)\n",
    "\n",
    "# mars hemispherses\n",
    "mars_hemisphere = get_mars_hemisphere()\n",
    "\n",
    "post = {\n",
    "    \"news\": news,\n",
    "    \"featured_image\":featured_image,\n",
    "#     \"mars_facts\": mars_facts_filename,\n",
    "    \"mars_weather\": mars_weather,\n",
    "    \"mars_facts\": marsHtml,\n",
    "    \"mars_hemisphere\": mars_hemisphere,\n",
    "    'date': datetime.datetime.utcnow()\n",
    "  }\n",
    "\n",
    "\n",
    "\n",
    "db.mars_info.insert_one(post)"
   ]
  },
  {
   "cell_type": "code",
   "execution_count": 8,
   "metadata": {},
   "outputs": [
    {
     "name": "stdout",
     "output_type": "stream",
     "text": [
      "{'_id': ObjectId('5a0546895976e3360c0fade6'), 'news': {'title': \"Martian Ridge Brings Out Rover's Color Talents\", 'text': 'On a part of \"Vera Rubin Ridge\" where rover-team researchers sought to determine whether dust coatings are hiding rocks\\' hematite content, the Mast Camera (Mastcam) on NASA\\'s Curiosity Mars rover took this image of a rock surface that had been brushed with the rover\\'s Dust Removal Tool.'}, 'featured_image': 'https://www.jpl.nasa.gov/spaceimages/images/largesize/PIA16837_hires.jpg', 'mars_weather': 'Sol 1868 (Nov 07, 2017), Sunny, high -24C/-11F, low -80C/-112F, pressure at 8.48 hPa, daylight 05:55-17:38', 'mars_facts': '<table border=\"1\" class=\"dataframe\">\\n  <thead>\\n    <tr style=\"text-align: right;\">\\n      <th></th>\\n      <th>value</th>\\n    </tr>\\n    <tr>\\n      <th>name</th>\\n      <th></th>\\n    </tr>\\n  </thead>\\n  <tbody>\\n    <tr>\\n      <th>Equatorial Diameter:</th>\\n      <td>6,792 km</td>\\n    </tr>\\n    <tr>\\n      <th>Polar Diameter:</th>\\n      <td>6,752 km</td>\\n    </tr>\\n    <tr>\\n      <th>Mass:</th>\\n      <td>6.42 x 10^23 kg (10.7% Earth)</td>\\n    </tr>\\n    <tr>\\n      <th>Moons:</th>\\n      <td>2 (Phobos &amp; Deimos)</td>\\n    </tr>\\n    <tr>\\n      <th>Orbit Distance:</th>\\n      <td>227,943,824 km (1.52 AU)</td>\\n    </tr>\\n    <tr>\\n      <th>Orbit Period:</th>\\n      <td>687 days (1.9 years)</td>\\n    </tr>\\n    <tr>\\n      <th>Surface Temperature:</th>\\n      <td>-153 to 20 °C</td>\\n    </tr>\\n    <tr>\\n      <th>First Record:</th>\\n      <td>2nd millennium BC</td>\\n    </tr>\\n    <tr>\\n      <th>Recorded By:</th>\\n      <td>Egyptian astronomers</td>\\n    </tr>\\n  </tbody>\\n</table>', 'mars_hemisphere': [{'title': 'Cerberus Hemisphere Enhanced', 'image_url': 'https://astrogeology.usgs.gov/cache/images/cfa62af2557222a02478f1fcd781d445_cerberus_enhanced.tif_full.jpg'}, {'title': 'Schiaparelli Hemisphere Enhanced', 'image_url': 'https://astrogeology.usgs.gov/cache/images/3cdd1cbf5e0813bba925c9030d13b62e_schiaparelli_enhanced.tif_full.jpg'}, {'title': 'Syrtis Major Hemisphere Enhanced', 'image_url': 'https://astrogeology.usgs.gov/cache/images/ae209b4e408bb6c3e67b6af38168cf28_syrtis_major_enhanced.tif_full.jpg'}, {'title': 'Valles Marineris Hemisphere Enhanced', 'image_url': 'https://astrogeology.usgs.gov/cache/images/7cf2da4bf549ed01c17f206327be4db7_valles_marineris_enhanced.tif_full.jpg'}], 'date': datetime.datetime(2017, 11, 10, 6, 26, 17, 642000)}\n"
     ]
    }
   ],
   "source": [
    "results = list(db.mars_info.find().sort('date',pymongo.DESCENDING).limit(1))[0]\n",
    "print(results)"
   ]
  },
  {
   "cell_type": "code",
   "execution_count": 10,
   "metadata": {},
   "outputs": [
    {
     "data": {
      "text/plain": [
       "'<table border=\"1\" class=\"dataframe\">\\n  <thead>\\n    <tr style=\"text-align: right;\">\\n      <th></th>\\n      <th>value</th>\\n    </tr>\\n    <tr>\\n      <th>name</th>\\n      <th></th>\\n    </tr>\\n  </thead>\\n  <tbody>\\n    <tr>\\n      <th>Equatorial Diameter:</th>\\n      <td>6,792 km</td>\\n    </tr>\\n    <tr>\\n      <th>Polar Diameter:</th>\\n      <td>6,752 km</td>\\n    </tr>\\n    <tr>\\n      <th>Mass:</th>\\n      <td>6.42 x 10^23 kg (10.7% Earth)</td>\\n    </tr>\\n    <tr>\\n      <th>Moons:</th>\\n      <td>2 (Phobos &amp; Deimos)</td>\\n    </tr>\\n    <tr>\\n      <th>Orbit Distance:</th>\\n      <td>227,943,824 km (1.52 AU)</td>\\n    </tr>\\n    <tr>\\n      <th>Orbit Period:</th>\\n      <td>687 days (1.9 years)</td>\\n    </tr>\\n    <tr>\\n      <th>Surface Temperature:</th>\\n      <td>-153 to 20 °C</td>\\n    </tr>\\n    <tr>\\n      <th>First Record:</th>\\n      <td>2nd millennium BC</td>\\n    </tr>\\n    <tr>\\n      <th>Recorded By:</th>\\n      <td>Egyptian astronomers</td>\\n    </tr>\\n  </tbody>\\n</table>'"
      ]
     },
     "execution_count": 10,
     "metadata": {},
     "output_type": "execute_result"
    }
   ],
   "source": [
    "results['mars_facts']"
   ]
  }
 ],
 "metadata": {
  "kernelspec": {
   "display_name": "Python [conda env:PythonData]",
   "language": "python",
   "name": "conda-env-PythonData-py"
  },
  "language_info": {
   "codemirror_mode": {
    "name": "ipython",
    "version": 3
   },
   "file_extension": ".py",
   "mimetype": "text/x-python",
   "name": "python",
   "nbconvert_exporter": "python",
   "pygments_lexer": "ipython3",
   "version": "3.6.1"
  }
 },
 "nbformat": 4,
 "nbformat_minor": 2
}
